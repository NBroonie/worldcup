{
 "cells": [
  {
   "cell_type": "code",
   "execution_count": null,
   "metadata": {},
   "outputs": [
    {
     "ename": "",
     "evalue": "",
     "output_type": "error",
     "traceback": [
      "\u001b[1;31mRunning cells with 'Python 3.10.8 ('.venv': venv)' requires ipykernel package.\n",
      "\u001b[1;31mRun the following command to install 'ipykernel' into the Python environment. \n",
      "\u001b[1;31mCommand: 'c:/Users/niabrown/Desktop/Practice/.venv/Scripts/python.exe -m pip install ipykernel -U --force-reinstall'"
     ]
    }
   ],
   "source": [
    "import pandas as pd\n",
    "import numpy as np"
   ]
  },
  {
   "cell_type": "code",
   "execution_count": null,
   "metadata": {},
   "outputs": [
    {
     "ename": "",
     "evalue": "",
     "output_type": "error",
     "traceback": [
      "\u001b[1;31mRunning cells with 'Python 3.10.8 ('.venv': venv)' requires ipykernel package.\n",
      "\u001b[1;31mRun the following command to install 'ipykernel' into the Python environment. \n",
      "\u001b[1;31mCommand: 'c:/Users/niabrown/Desktop/Practice/.venv/Scripts/python.exe -m pip install ipykernel -U --force-reinstall'"
     ]
    }
   ],
   "source": [
    "df = pd.read_csv('results.csv')"
   ]
  },
  {
   "cell_type": "code",
   "execution_count": null,
   "metadata": {},
   "outputs": [
    {
     "ename": "",
     "evalue": "",
     "output_type": "error",
     "traceback": [
      "\u001b[1;31mRunning cells with 'Python 3.10.8 ('.venv': venv)' requires ipykernel package.\n",
      "\u001b[1;31mRun the following command to install 'ipykernel' into the Python environment. \n",
      "\u001b[1;31mCommand: 'c:/Users/niabrown/Desktop/Practice/.venv/Scripts/python.exe -m pip install ipykernel -U --force-reinstall'"
     ]
    }
   ],
   "source": [
    "df = df.dropna(axis = 0)\n",
    "df['date'] =  pd.to_datetime(df['date'], format='%Y-%m-%d')"
   ]
  },
  {
   "cell_type": "code",
   "execution_count": null,
   "metadata": {},
   "outputs": [
    {
     "ename": "",
     "evalue": "",
     "output_type": "error",
     "traceback": [
      "\u001b[1;31mRunning cells with 'Python 3.10.8 ('.venv': venv)' requires ipykernel package.\n",
      "\u001b[1;31mRun the following command to install 'ipykernel' into the Python environment. \n",
      "\u001b[1;31mCommand: 'c:/Users/niabrown/Desktop/Practice/.venv/Scripts/python.exe -m pip install ipykernel -U --force-reinstall'"
     ]
    }
   ],
   "source": [
    "tourn_dict = {'Friendly':20,\n",
    "             'FIFA World Cup':60,\n",
    "             'AFC Asian Cup': 50,\n",
    "             'African Cup of Nations':50,\n",
    "             'African Nations Championship':50,\n",
    "             'Gold Cup': 50,\n",
    "             'CONCACAF Nations League': 50,\n",
    "             'Copa América': 50,\n",
    "             'Oceania Nations Cup': 50,\n",
    "             'UEFA Euro': 50,\n",
    "             'UEFA Nations League':50}\n",
    "\n",
    "\n",
    "df['tournament_weight'] = df['tournament'].replace(tourn_dict)\n",
    "\n",
    "df['tournament_weight'] = df.apply(lambda x: 40 if 'qualification' in x['tournament'] else x['tournament_weight'], axis=1)\n",
    "\n",
    "df[\"tournament_weight\"] = df[\"tournament_weight\"].replace(regex='([a-zA-Z])', value=30)"
   ]
  },
  {
   "cell_type": "code",
   "execution_count": null,
   "metadata": {},
   "outputs": [
    {
     "ename": "",
     "evalue": "",
     "output_type": "error",
     "traceback": [
      "\u001b[1;31mRunning cells with 'Python 3.10.8 ('.venv': venv)' requires ipykernel package.\n",
      "\u001b[1;31mRun the following command to install 'ipykernel' into the Python environment. \n",
      "\u001b[1;31mCommand: 'c:/Users/niabrown/Desktop/Practice/.venv/Scripts/python.exe -m pip install ipykernel -U --force-reinstall'"
     ]
    }
   ],
   "source": [
    "df['home_goal_difference'] = df['home_score']-df['away_score']\n",
    "\n",
    "def parse_homeresult(x):\n",
    "    if x > 0:\n",
    "       return 1\n",
    "    elif x == 0:\n",
    "       return 0.5\n",
    "    else:\n",
    "       return 0\n",
    "\n",
    "df['result'] = df['home_goal_difference'].apply(parse_homeresult)\n",
    "\n",
    "df['home_bonus'] = [100 if x else 0 for x in df['neutral']]"
   ]
  },
  {
   "cell_type": "code",
   "execution_count": null,
   "metadata": {},
   "outputs": [
    {
     "ename": "",
     "evalue": "",
     "output_type": "error",
     "traceback": [
      "\u001b[1;31mRunning cells with 'Python 3.10.8 ('.venv': venv)' requires ipykernel package.\n",
      "\u001b[1;31mRun the following command to install 'ipykernel' into the Python environment. \n",
      "\u001b[1;31mCommand: 'c:/Users/niabrown/Desktop/Practice/.venv/Scripts/python.exe -m pip install ipykernel -U --force-reinstall'"
     ]
    }
   ],
   "source": [
    "def parse_goaldiffindex(x):\n",
    "    x = np.abs(x)\n",
    "    if x <= 1:\n",
    "        return 1\n",
    "    elif x == 2:\n",
    "        return 3/2\n",
    "    else:\n",
    "        return (11+x)/8\n",
    "\n",
    "df['g_index'] = df['home_goal_difference'].apply(parse_goaldiffindex)"
   ]
  },
  {
   "cell_type": "code",
   "execution_count": null,
   "metadata": {},
   "outputs": [
    {
     "ename": "",
     "evalue": "",
     "output_type": "error",
     "traceback": [
      "\u001b[1;31mRunning cells with 'Python 3.10.8 ('.venv': venv)' requires ipykernel package.\n",
      "\u001b[1;31mRun the following command to install 'ipykernel' into the Python environment. \n",
      "\u001b[1;31mCommand: 'c:/Users/niabrown/Desktop/Practice/.venv/Scripts/python.exe -m pip install ipykernel -U --force-reinstall'"
     ]
    }
   ],
   "source": [
    "class PremTeam:\n",
    "    def __init__(self, name):\n",
    "        self.team_name = name\n",
    "        self.elo_rating = 1500\n",
    "\n",
    "class EloCalculator:\n",
    "\n",
    "    def update_single_fixture(self,fixture, teams):\n",
    "\n",
    "        home_rating = teams[fixture['home_team']].elo_rating + fixture['home_bonus']\n",
    "        away_rating = teams[fixture['away_team']].elo_rating\n",
    "\n",
    "        dr = home_rating-away_rating\n",
    "\n",
    "        expected_result = 1/(10**(-dr/600)+1)\n",
    "        \n",
    "        points_change = fixture['tournament_weight']*fixture['g_index']*(fixture['result'] - expected_result)\n",
    "\n",
    "      \n",
    "        # update elo ranking by adding the coefficient\n",
    "        teams[fixture['home_team']].elo_rating += points_change\n",
    "        teams[fixture['away_team']].elo_rating -= points_change\n"
   ]
  },
  {
   "cell_type": "code",
   "execution_count": null,
   "metadata": {},
   "outputs": [
    {
     "ename": "",
     "evalue": "",
     "output_type": "error",
     "traceback": [
      "\u001b[1;31mRunning cells with 'Python 3.10.8 ('.venv': venv)' requires ipykernel package.\n",
      "\u001b[1;31mRun the following command to install 'ipykernel' into the Python environment. \n",
      "\u001b[1;31mCommand: 'c:/Users/niabrown/Desktop/Practice/.venv/Scripts/python.exe -m pip install ipykernel -U --force-reinstall'"
     ]
    }
   ],
   "source": [
    "# Create list of all team names over parsed seasons.\n",
    "# For every team that has a fixture in our data, add\n",
    "# this team to the set of all team names\n",
    "\n",
    "team_names = set()\n",
    "for team in np.unique(df[['home_team', 'away_team']].values):\n",
    "    team_names.add(team)\n",
    "\n",
    "# Create a dictionary of all teams.\n",
    "# The key is the team name and the value an\n",
    "# instance of PremTeam class\n",
    "teams = {}\n",
    "for team in team_names:\n",
    "    teams[team] = PremTeam(team)\n",
    "\n",
    "\n",
    "elo = EloCalculator()"
   ]
  },
  {
   "cell_type": "code",
   "execution_count": null,
   "metadata": {},
   "outputs": [
    {
     "ename": "",
     "evalue": "",
     "output_type": "error",
     "traceback": [
      "\u001b[1;31mRunning cells with 'Python 3.10.8 ('.venv': venv)' requires ipykernel package.\n",
      "\u001b[1;31mRun the following command to install 'ipykernel' into the Python environment. \n",
      "\u001b[1;31mCommand: 'c:/Users/niabrown/Desktop/Practice/.venv/Scripts/python.exe -m pip install ipykernel -U --force-reinstall'"
     ]
    }
   ],
   "source": [
    "# Count the number of matches in the season\n",
    "n_matches = df.shape[0]\n",
    "    \n",
    "# As we have sorted our SeasonData dataframe, we can access each fixture\n",
    "# in order and update the each teams elo rating. The teams are stored in the\n",
    "# dict called teams which we pass into this function\n",
    "for i in range(n_matches):\n",
    "    df.loc[i,['home_elo']] = teams[df.iloc[i]['home_team']].elo_rating\n",
    "    df.loc[i,['away_elo']] = teams[df.iloc[i]['away_team']].elo_rating\n",
    "    \n",
    "    elo.update_single_fixture(df.iloc[i], teams)\n",
    "\n",
    "# Print the up to date elo_ratings\n",
    "for team in teams.keys():\n",
    "    print(team, teams[team].elo_rating) "
   ]
  },
  {
   "cell_type": "code",
   "execution_count": null,
   "metadata": {},
   "outputs": [
    {
     "ename": "",
     "evalue": "",
     "output_type": "error",
     "traceback": [
      "\u001b[1;31mRunning cells with 'Python 3.10.8 ('.venv': venv)' requires ipykernel package.\n",
      "\u001b[1;31mRun the following command to install 'ipykernel' into the Python environment. \n",
      "\u001b[1;31mCommand: 'c:/Users/niabrown/Desktop/Practice/.venv/Scripts/python.exe -m pip install ipykernel -U --force-reinstall'"
     ]
    }
   ],
   "source": [
    "home_team_stats = df[['date','home_team','home_score','away_score']]\n",
    "away_team_stats = df[['date','away_team','home_score','away_score']]\n",
    "\n",
    "home_team_stats.columns = ['date','team','goals_for','goals_against']\n",
    "away_team_stats.columns = ['date','team','goals_against','goals_for']\n",
    "\n",
    "team_stats_per_match = home_team_stats.append(away_team_stats)\n",
    "\n",
    "team_stats_per_match['xG10'] = team_stats_per_match['goals_for'].rolling(10,min_periods=1).mean()\n",
    "team_stats_per_match['xGA10'] = team_stats_per_match['goals_against'].rolling(10,min_periods=1).mean()\n",
    "\n",
    "home_team_stats = team_stats_per_match.iloc[:int(team_stats_per_match.shape[0]/2),:]\n",
    "away_team_stats = team_stats_per_match.iloc[int(team_stats_per_match.shape[0]/2):,:]\n",
    "\n",
    "home_team_stats.columns = ['team_1_'+str(col) for col in home_team_stats.columns]\n",
    "away_team_stats.columns = ['team_2_'+str(col) for col in away_team_stats.columns]\n",
    "\n",
    "match_stats = pd.concat([home_team_stats, away_team_stats.reset_index(drop=True)], axis=1, ignore_index=False)\n",
    "\n",
    "df = pd.concat([df, match_stats], axis=1, ignore_index=False)\n",
    "\n",
    "df_final = df[['home_score', 'home_elo', 'away_elo', 'team_1_xG10', 'team_1_xGA10', 'team_2_xG10', 'team_2_xGA10']]\n",
    "\n",
    "df_final['xG'] = df_final['team_1_xG10']*df_final['team_2_xGA10']\n",
    "df_final['xGA'] = df_final['team_1_xGA10']*df_final['team_2_xG10']\n",
    "\n",
    "df_final"
   ]
  },
  {
   "cell_type": "code",
   "execution_count": null,
   "metadata": {},
   "outputs": [
    {
     "ename": "",
     "evalue": "",
     "output_type": "error",
     "traceback": [
      "\u001b[1;31mRunning cells with 'Python 3.10.8 ('.venv': venv)' requires ipykernel package.\n",
      "\u001b[1;31mRun the following command to install 'ipykernel' into the Python environment. \n",
      "\u001b[1;31mCommand: 'c:/Users/niabrown/Desktop/Practice/.venv/Scripts/python.exe -m pip install ipykernel -U --force-reinstall'"
     ]
    }
   ],
   "source": [
    "from sklearn.model_selection import train_test_split\n",
    "X = df_final.drop('home_score',axis = 1)\n",
    "y = df_final['home_score']\n",
    "\n",
    "X_train, X_test, y_train, y_test = train_test_split(X, y, test_size=0.3, shuffle= True, random_state=10)\n"
   ]
  },
  {
   "cell_type": "code",
   "execution_count": null,
   "metadata": {},
   "outputs": [
    {
     "ename": "",
     "evalue": "",
     "output_type": "error",
     "traceback": [
      "\u001b[1;31mRunning cells with 'Python 3.10.8 ('.venv': venv)' requires ipykernel package.\n",
      "\u001b[1;31mRun the following command to install 'ipykernel' into the Python environment. \n",
      "\u001b[1;31mCommand: 'c:/Users/niabrown/Desktop/Practice/.venv/Scripts/python.exe -m pip install ipykernel -U --force-reinstall'"
     ]
    }
   ],
   "source": [
    "from sklearn.linear_model import PoissonRegressor\n",
    "from sklearn.pipeline import Pipeline\n",
    "from sklearn import metrics\n",
    "from sklearn.preprocessing import RobustScaler\n",
    "\n",
    "pipeline = Pipeline([('scaler', RobustScaler()),\n",
    "                    ('model', PoissonRegressor())])\n",
    "pipeline.fit(X_train, y_train)\n",
    "y_pred = pipeline.predict(X_test)\n",
    "r2_test = metrics.r2_score(y_test, y_pred)\n",
    "\n",
    "r2_test"
   ]
  },
  {
   "cell_type": "code",
   "execution_count": null,
   "metadata": {},
   "outputs": [
    {
     "ename": "",
     "evalue": "",
     "output_type": "error",
     "traceback": [
      "\u001b[1;31mRunning cells with 'Python 3.10.8 ('.venv': venv)' requires ipykernel package.\n",
      "\u001b[1;31mRun the following command to install 'ipykernel' into the Python environment. \n",
      "\u001b[1;31mCommand: 'c:/Users/niabrown/Desktop/Practice/.venv/Scripts/python.exe -m pip install ipykernel -U --force-reinstall'"
     ]
    }
   ],
   "source": []
  }
 ],
 "metadata": {
  "kernelspec": {
   "display_name": "Python 3.10.8 ('.venv': venv)",
   "language": "python",
   "name": "python3"
  },
  "language_info": {
   "codemirror_mode": {
    "name": "ipython",
    "version": 3
   },
   "file_extension": ".py",
   "mimetype": "text/x-python",
   "name": "python",
   "nbconvert_exporter": "python",
   "pygments_lexer": "ipython3",
   "version": "3.10.8"
  },
  "orig_nbformat": 4,
  "vscode": {
   "interpreter": {
    "hash": "65a067dce69729db9040d5dbe8f2feedd5883629deea05bff04dacbce36b57c8"
   }
  }
 },
 "nbformat": 4,
 "nbformat_minor": 2
}
